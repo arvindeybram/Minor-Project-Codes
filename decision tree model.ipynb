{
 "cells": [
  {
   "cell_type": "code",
   "execution_count": 1,
   "metadata": {},
   "outputs": [],
   "source": [
    "import pandas as pd\n",
    "import numpy as np"
   ]
  },
  {
   "cell_type": "code",
   "execution_count": 2,
   "metadata": {},
   "outputs": [],
   "source": [
    "file = pd.read_csv(\"Bigset.csv\")"
   ]
  },
  {
   "cell_type": "code",
   "execution_count": 3,
   "metadata": {},
   "outputs": [
    {
     "data": {
      "text/html": [
       "<div>\n",
       "<style scoped>\n",
       "    .dataframe tbody tr th:only-of-type {\n",
       "        vertical-align: middle;\n",
       "    }\n",
       "\n",
       "    .dataframe tbody tr th {\n",
       "        vertical-align: top;\n",
       "    }\n",
       "\n",
       "    .dataframe thead th {\n",
       "        text-align: right;\n",
       "    }\n",
       "</style>\n",
       "<table border=\"1\" class=\"dataframe\">\n",
       "  <thead>\n",
       "    <tr style=\"text-align: right;\">\n",
       "      <th></th>\n",
       "      <th>Alphabets</th>\n",
       "      <th>Dash</th>\n",
       "      <th>DigLetRatio</th>\n",
       "      <th>Digits</th>\n",
       "      <th>Dollar</th>\n",
       "      <th>DomainLength</th>\n",
       "      <th>Dots</th>\n",
       "      <th>Eq_sym</th>\n",
       "      <th>Labels</th>\n",
       "      <th>Len_of_URL</th>\n",
       "      <th>NonAlpha</th>\n",
       "      <th>Q_mark</th>\n",
       "      <th>Special_sym</th>\n",
       "      <th>Subdomains</th>\n",
       "      <th>URL</th>\n",
       "      <th>Vow-Cons-Ratio</th>\n",
       "      <th>https</th>\n",
       "    </tr>\n",
       "  </thead>\n",
       "  <tbody>\n",
       "    <tr>\n",
       "      <th>0</th>\n",
       "      <td>77</td>\n",
       "      <td>2</td>\n",
       "      <td>0.324675</td>\n",
       "      <td>25</td>\n",
       "      <td>0</td>\n",
       "      <td>3</td>\n",
       "      <td>2</td>\n",
       "      <td>5</td>\n",
       "      <td>0</td>\n",
       "      <td>122</td>\n",
       "      <td>45</td>\n",
       "      <td>1</td>\n",
       "      <td>8</td>\n",
       "      <td>0</td>\n",
       "      <td>/account/general?FORM=SEFD&amp;ru=http%3a%2f%2fwww...</td>\n",
       "      <td>0.414634</td>\n",
       "      <td>0</td>\n",
       "    </tr>\n",
       "    <tr>\n",
       "      <th>1</th>\n",
       "      <td>77</td>\n",
       "      <td>2</td>\n",
       "      <td>0.324675</td>\n",
       "      <td>25</td>\n",
       "      <td>0</td>\n",
       "      <td>3</td>\n",
       "      <td>2</td>\n",
       "      <td>5</td>\n",
       "      <td>0</td>\n",
       "      <td>122</td>\n",
       "      <td>45</td>\n",
       "      <td>1</td>\n",
       "      <td>8</td>\n",
       "      <td>0</td>\n",
       "      <td>/account/general?FORM=SEFD&amp;ru=http%3a%2f%2fwww...</td>\n",
       "      <td>0.450000</td>\n",
       "      <td>0</td>\n",
       "    </tr>\n",
       "    <tr>\n",
       "      <th>2</th>\n",
       "      <td>77</td>\n",
       "      <td>2</td>\n",
       "      <td>0.324675</td>\n",
       "      <td>25</td>\n",
       "      <td>0</td>\n",
       "      <td>3</td>\n",
       "      <td>2</td>\n",
       "      <td>5</td>\n",
       "      <td>0</td>\n",
       "      <td>122</td>\n",
       "      <td>45</td>\n",
       "      <td>1</td>\n",
       "      <td>8</td>\n",
       "      <td>0</td>\n",
       "      <td>/account/general?FORM=SEFD&amp;ru=http%3a%2f%2fwww...</td>\n",
       "      <td>0.450000</td>\n",
       "      <td>0</td>\n",
       "    </tr>\n",
       "    <tr>\n",
       "      <th>3</th>\n",
       "      <td>77</td>\n",
       "      <td>2</td>\n",
       "      <td>0.324675</td>\n",
       "      <td>25</td>\n",
       "      <td>0</td>\n",
       "      <td>3</td>\n",
       "      <td>2</td>\n",
       "      <td>5</td>\n",
       "      <td>0</td>\n",
       "      <td>122</td>\n",
       "      <td>45</td>\n",
       "      <td>1</td>\n",
       "      <td>8</td>\n",
       "      <td>0</td>\n",
       "      <td>/account/general?FORM=SEFD&amp;ru=http%3a%2f%2fwww...</td>\n",
       "      <td>0.414634</td>\n",
       "      <td>0</td>\n",
       "    </tr>\n",
       "    <tr>\n",
       "      <th>4</th>\n",
       "      <td>77</td>\n",
       "      <td>2</td>\n",
       "      <td>0.324675</td>\n",
       "      <td>25</td>\n",
       "      <td>0</td>\n",
       "      <td>3</td>\n",
       "      <td>2</td>\n",
       "      <td>5</td>\n",
       "      <td>0</td>\n",
       "      <td>122</td>\n",
       "      <td>45</td>\n",
       "      <td>1</td>\n",
       "      <td>8</td>\n",
       "      <td>0</td>\n",
       "      <td>/account/general?FORM=SEFD&amp;ru=http%3a%2f%2fwww...</td>\n",
       "      <td>0.414634</td>\n",
       "      <td>0</td>\n",
       "    </tr>\n",
       "  </tbody>\n",
       "</table>\n",
       "</div>"
      ],
      "text/plain": [
       "   Alphabets  Dash  DigLetRatio  Digits  Dollar  DomainLength  Dots  Eq_sym  \\\n",
       "0         77     2     0.324675      25       0             3     2       5   \n",
       "1         77     2     0.324675      25       0             3     2       5   \n",
       "2         77     2     0.324675      25       0             3     2       5   \n",
       "3         77     2     0.324675      25       0             3     2       5   \n",
       "4         77     2     0.324675      25       0             3     2       5   \n",
       "\n",
       "   Labels  Len_of_URL  NonAlpha  Q_mark  Special_sym  Subdomains  \\\n",
       "0       0         122        45       1            8           0   \n",
       "1       0         122        45       1            8           0   \n",
       "2       0         122        45       1            8           0   \n",
       "3       0         122        45       1            8           0   \n",
       "4       0         122        45       1            8           0   \n",
       "\n",
       "                                                 URL  Vow-Cons-Ratio  https  \n",
       "0  /account/general?FORM=SEFD&ru=http%3a%2f%2fwww...        0.414634      0  \n",
       "1  /account/general?FORM=SEFD&ru=http%3a%2f%2fwww...        0.450000      0  \n",
       "2  /account/general?FORM=SEFD&ru=http%3a%2f%2fwww...        0.450000      0  \n",
       "3  /account/general?FORM=SEFD&ru=http%3a%2f%2fwww...        0.414634      0  \n",
       "4  /account/general?FORM=SEFD&ru=http%3a%2f%2fwww...        0.414634      0  "
      ]
     },
     "execution_count": 3,
     "metadata": {},
     "output_type": "execute_result"
    }
   ],
   "source": [
    "file.head()"
   ]
  },
  {
   "cell_type": "code",
   "execution_count": 4,
   "metadata": {
    "scrolled": true
   },
   "outputs": [
    {
     "data": {
      "text/html": [
       "<div>\n",
       "<style scoped>\n",
       "    .dataframe tbody tr th:only-of-type {\n",
       "        vertical-align: middle;\n",
       "    }\n",
       "\n",
       "    .dataframe tbody tr th {\n",
       "        vertical-align: top;\n",
       "    }\n",
       "\n",
       "    .dataframe thead th {\n",
       "        text-align: right;\n",
       "    }\n",
       "</style>\n",
       "<table border=\"1\" class=\"dataframe\">\n",
       "  <thead>\n",
       "    <tr style=\"text-align: right;\">\n",
       "      <th></th>\n",
       "      <th>Alphabets</th>\n",
       "      <th>Dash</th>\n",
       "      <th>DigLetRatio</th>\n",
       "      <th>Digits</th>\n",
       "      <th>Dollar</th>\n",
       "      <th>DomainLength</th>\n",
       "      <th>Dots</th>\n",
       "      <th>Eq_sym</th>\n",
       "      <th>Labels</th>\n",
       "      <th>Len_of_URL</th>\n",
       "      <th>NonAlpha</th>\n",
       "      <th>Q_mark</th>\n",
       "      <th>Special_sym</th>\n",
       "      <th>Subdomains</th>\n",
       "      <th>URL</th>\n",
       "      <th>Vow-Cons-Ratio</th>\n",
       "      <th>https</th>\n",
       "    </tr>\n",
       "  </thead>\n",
       "  <tbody>\n",
       "    <tr>\n",
       "      <th>3604466</th>\n",
       "      <td>43</td>\n",
       "      <td>0</td>\n",
       "      <td>0.186047</td>\n",
       "      <td>8</td>\n",
       "      <td>0</td>\n",
       "      <td>31</td>\n",
       "      <td>3</td>\n",
       "      <td>0</td>\n",
       "      <td>1</td>\n",
       "      <td>61</td>\n",
       "      <td>18</td>\n",
       "      <td>0</td>\n",
       "      <td>4</td>\n",
       "      <td>1</td>\n",
       "      <td>http://mundovirtualhabbo.blogspot.com/2009_01_...</td>\n",
       "      <td>0.433333</td>\n",
       "      <td>0</td>\n",
       "    </tr>\n",
       "    <tr>\n",
       "      <th>3604467</th>\n",
       "      <td>43</td>\n",
       "      <td>0</td>\n",
       "      <td>0.186047</td>\n",
       "      <td>8</td>\n",
       "      <td>0</td>\n",
       "      <td>28</td>\n",
       "      <td>3</td>\n",
       "      <td>0</td>\n",
       "      <td>1</td>\n",
       "      <td>61</td>\n",
       "      <td>18</td>\n",
       "      <td>0</td>\n",
       "      <td>2</td>\n",
       "      <td>1</td>\n",
       "      <td>http://creditgratosse.blogspot.com/2008/01/con...</td>\n",
       "      <td>0.387097</td>\n",
       "      <td>0</td>\n",
       "    </tr>\n",
       "    <tr>\n",
       "      <th>3604468</th>\n",
       "      <td>42</td>\n",
       "      <td>3</td>\n",
       "      <td>0.142857</td>\n",
       "      <td>6</td>\n",
       "      <td>0</td>\n",
       "      <td>19</td>\n",
       "      <td>3</td>\n",
       "      <td>0</td>\n",
       "      <td>1</td>\n",
       "      <td>60</td>\n",
       "      <td>18</td>\n",
       "      <td>0</td>\n",
       "      <td>1</td>\n",
       "      <td>1</td>\n",
       "      <td>http://aijcs.blogspot.com/2005/03/colourful-li...</td>\n",
       "      <td>0.500000</td>\n",
       "      <td>0</td>\n",
       "    </tr>\n",
       "    <tr>\n",
       "      <th>3604469</th>\n",
       "      <td>17</td>\n",
       "      <td>1</td>\n",
       "      <td>0.176471</td>\n",
       "      <td>3</td>\n",
       "      <td>0</td>\n",
       "      <td>11</td>\n",
       "      <td>2</td>\n",
       "      <td>0</td>\n",
       "      <td>1</td>\n",
       "      <td>28</td>\n",
       "      <td>11</td>\n",
       "      <td>0</td>\n",
       "      <td>1</td>\n",
       "      <td>1</td>\n",
       "      <td>http://tnet.at.ua/index/0-13</td>\n",
       "      <td>0.545455</td>\n",
       "      <td>0</td>\n",
       "    </tr>\n",
       "    <tr>\n",
       "      <th>3604470</th>\n",
       "      <td>57</td>\n",
       "      <td>4</td>\n",
       "      <td>0.122807</td>\n",
       "      <td>7</td>\n",
       "      <td>0</td>\n",
       "      <td>23</td>\n",
       "      <td>3</td>\n",
       "      <td>0</td>\n",
       "      <td>1</td>\n",
       "      <td>78</td>\n",
       "      <td>21</td>\n",
       "      <td>0</td>\n",
       "      <td>2</td>\n",
       "      <td>1</td>\n",
       "      <td>http://tudu-free.blogspot.com/2008/02/jogos-ja...</td>\n",
       "      <td>0.540541</td>\n",
       "      <td>0</td>\n",
       "    </tr>\n",
       "  </tbody>\n",
       "</table>\n",
       "</div>"
      ],
      "text/plain": [
       "         Alphabets  Dash  DigLetRatio  Digits  Dollar  DomainLength  Dots  \\\n",
       "3604466         43     0     0.186047       8       0            31     3   \n",
       "3604467         43     0     0.186047       8       0            28     3   \n",
       "3604468         42     3     0.142857       6       0            19     3   \n",
       "3604469         17     1     0.176471       3       0            11     2   \n",
       "3604470         57     4     0.122807       7       0            23     3   \n",
       "\n",
       "         Eq_sym  Labels  Len_of_URL  NonAlpha  Q_mark  Special_sym  \\\n",
       "3604466       0       1          61        18       0            4   \n",
       "3604467       0       1          61        18       0            2   \n",
       "3604468       0       1          60        18       0            1   \n",
       "3604469       0       1          28        11       0            1   \n",
       "3604470       0       1          78        21       0            2   \n",
       "\n",
       "         Subdomains                                                URL  \\\n",
       "3604466           1  http://mundovirtualhabbo.blogspot.com/2009_01_...   \n",
       "3604467           1  http://creditgratosse.blogspot.com/2008/01/con...   \n",
       "3604468           1  http://aijcs.blogspot.com/2005/03/colourful-li...   \n",
       "3604469           1                       http://tnet.at.ua/index/0-13   \n",
       "3604470           1  http://tudu-free.blogspot.com/2008/02/jogos-ja...   \n",
       "\n",
       "         Vow-Cons-Ratio  https  \n",
       "3604466        0.433333      0  \n",
       "3604467        0.387097      0  \n",
       "3604468        0.500000      0  \n",
       "3604469        0.545455      0  \n",
       "3604470        0.540541      0  "
      ]
     },
     "execution_count": 4,
     "metadata": {},
     "output_type": "execute_result"
    }
   ],
   "source": [
    "file.tail()"
   ]
  },
  {
   "cell_type": "code",
   "execution_count": 5,
   "metadata": {},
   "outputs": [],
   "source": [
    "from sklearn.model_selection import train_test_split\n",
    "from sklearn.tree import DecisionTreeClassifier\n",
    "from sklearn.metrics import accuracy_score "
   ]
  },
  {
   "cell_type": "code",
   "execution_count": 6,
   "metadata": {},
   "outputs": [],
   "source": [
    "dtc = DecisionTreeClassifier()"
   ]
  },
  {
   "cell_type": "code",
   "execution_count": 7,
   "metadata": {},
   "outputs": [],
   "source": [
    "X = file.drop(['Labels','URL'],axis=1)"
   ]
  },
  {
   "cell_type": "code",
   "execution_count": 8,
   "metadata": {},
   "outputs": [
    {
     "data": {
      "text/html": [
       "<div>\n",
       "<style scoped>\n",
       "    .dataframe tbody tr th:only-of-type {\n",
       "        vertical-align: middle;\n",
       "    }\n",
       "\n",
       "    .dataframe tbody tr th {\n",
       "        vertical-align: top;\n",
       "    }\n",
       "\n",
       "    .dataframe thead th {\n",
       "        text-align: right;\n",
       "    }\n",
       "</style>\n",
       "<table border=\"1\" class=\"dataframe\">\n",
       "  <thead>\n",
       "    <tr style=\"text-align: right;\">\n",
       "      <th></th>\n",
       "      <th>Alphabets</th>\n",
       "      <th>Dash</th>\n",
       "      <th>DigLetRatio</th>\n",
       "      <th>Digits</th>\n",
       "      <th>Dollar</th>\n",
       "      <th>DomainLength</th>\n",
       "      <th>Dots</th>\n",
       "      <th>Eq_sym</th>\n",
       "      <th>Len_of_URL</th>\n",
       "      <th>NonAlpha</th>\n",
       "      <th>Q_mark</th>\n",
       "      <th>Special_sym</th>\n",
       "      <th>Subdomains</th>\n",
       "      <th>Vow-Cons-Ratio</th>\n",
       "      <th>https</th>\n",
       "    </tr>\n",
       "  </thead>\n",
       "  <tbody>\n",
       "    <tr>\n",
       "      <th>0</th>\n",
       "      <td>77</td>\n",
       "      <td>2</td>\n",
       "      <td>0.324675</td>\n",
       "      <td>25</td>\n",
       "      <td>0</td>\n",
       "      <td>3</td>\n",
       "      <td>2</td>\n",
       "      <td>5</td>\n",
       "      <td>122</td>\n",
       "      <td>45</td>\n",
       "      <td>1</td>\n",
       "      <td>8</td>\n",
       "      <td>0</td>\n",
       "      <td>0.414634</td>\n",
       "      <td>0</td>\n",
       "    </tr>\n",
       "    <tr>\n",
       "      <th>1</th>\n",
       "      <td>77</td>\n",
       "      <td>2</td>\n",
       "      <td>0.324675</td>\n",
       "      <td>25</td>\n",
       "      <td>0</td>\n",
       "      <td>3</td>\n",
       "      <td>2</td>\n",
       "      <td>5</td>\n",
       "      <td>122</td>\n",
       "      <td>45</td>\n",
       "      <td>1</td>\n",
       "      <td>8</td>\n",
       "      <td>0</td>\n",
       "      <td>0.450000</td>\n",
       "      <td>0</td>\n",
       "    </tr>\n",
       "    <tr>\n",
       "      <th>2</th>\n",
       "      <td>77</td>\n",
       "      <td>2</td>\n",
       "      <td>0.324675</td>\n",
       "      <td>25</td>\n",
       "      <td>0</td>\n",
       "      <td>3</td>\n",
       "      <td>2</td>\n",
       "      <td>5</td>\n",
       "      <td>122</td>\n",
       "      <td>45</td>\n",
       "      <td>1</td>\n",
       "      <td>8</td>\n",
       "      <td>0</td>\n",
       "      <td>0.450000</td>\n",
       "      <td>0</td>\n",
       "    </tr>\n",
       "    <tr>\n",
       "      <th>3</th>\n",
       "      <td>77</td>\n",
       "      <td>2</td>\n",
       "      <td>0.324675</td>\n",
       "      <td>25</td>\n",
       "      <td>0</td>\n",
       "      <td>3</td>\n",
       "      <td>2</td>\n",
       "      <td>5</td>\n",
       "      <td>122</td>\n",
       "      <td>45</td>\n",
       "      <td>1</td>\n",
       "      <td>8</td>\n",
       "      <td>0</td>\n",
       "      <td>0.414634</td>\n",
       "      <td>0</td>\n",
       "    </tr>\n",
       "    <tr>\n",
       "      <th>4</th>\n",
       "      <td>77</td>\n",
       "      <td>2</td>\n",
       "      <td>0.324675</td>\n",
       "      <td>25</td>\n",
       "      <td>0</td>\n",
       "      <td>3</td>\n",
       "      <td>2</td>\n",
       "      <td>5</td>\n",
       "      <td>122</td>\n",
       "      <td>45</td>\n",
       "      <td>1</td>\n",
       "      <td>8</td>\n",
       "      <td>0</td>\n",
       "      <td>0.414634</td>\n",
       "      <td>0</td>\n",
       "    </tr>\n",
       "  </tbody>\n",
       "</table>\n",
       "</div>"
      ],
      "text/plain": [
       "   Alphabets  Dash  DigLetRatio  Digits  Dollar  DomainLength  Dots  Eq_sym  \\\n",
       "0         77     2     0.324675      25       0             3     2       5   \n",
       "1         77     2     0.324675      25       0             3     2       5   \n",
       "2         77     2     0.324675      25       0             3     2       5   \n",
       "3         77     2     0.324675      25       0             3     2       5   \n",
       "4         77     2     0.324675      25       0             3     2       5   \n",
       "\n",
       "   Len_of_URL  NonAlpha  Q_mark  Special_sym  Subdomains  Vow-Cons-Ratio  \\\n",
       "0         122        45       1            8           0        0.414634   \n",
       "1         122        45       1            8           0        0.450000   \n",
       "2         122        45       1            8           0        0.450000   \n",
       "3         122        45       1            8           0        0.414634   \n",
       "4         122        45       1            8           0        0.414634   \n",
       "\n",
       "   https  \n",
       "0      0  \n",
       "1      0  \n",
       "2      0  \n",
       "3      0  \n",
       "4      0  "
      ]
     },
     "execution_count": 8,
     "metadata": {},
     "output_type": "execute_result"
    }
   ],
   "source": [
    "X.head()"
   ]
  },
  {
   "cell_type": "code",
   "execution_count": 9,
   "metadata": {},
   "outputs": [],
   "source": [
    "y = file.Labels"
   ]
  },
  {
   "cell_type": "code",
   "execution_count": 10,
   "metadata": {},
   "outputs": [
    {
     "data": {
      "text/plain": [
       "0    3585184\n",
       "1      19287\n",
       "Name: Labels, dtype: int64"
      ]
     },
     "execution_count": 10,
     "metadata": {},
     "output_type": "execute_result"
    }
   ],
   "source": [
    "y.value_counts()"
   ]
  },
  {
   "cell_type": "code",
   "execution_count": 11,
   "metadata": {},
   "outputs": [],
   "source": [
    "X_train, X_test, y_train, y_test = train_test_split( X, y, test_size = 0.3, random_state = 100)"
   ]
  },
  {
   "cell_type": "code",
   "execution_count": 12,
   "metadata": {},
   "outputs": [
    {
     "data": {
      "text/plain": [
       "DecisionTreeClassifier(class_weight=None, criterion='gini', max_depth=None,\n",
       "            max_features=None, max_leaf_nodes=None,\n",
       "            min_impurity_decrease=0.0, min_impurity_split=None,\n",
       "            min_samples_leaf=1, min_samples_split=2,\n",
       "            min_weight_fraction_leaf=0.0, presort=False, random_state=None,\n",
       "            splitter='best')"
      ]
     },
     "execution_count": 12,
     "metadata": {},
     "output_type": "execute_result"
    }
   ],
   "source": [
    "dtc.fit(X_train,y_train)\n"
   ]
  },
  {
   "cell_type": "code",
   "execution_count": 13,
   "metadata": {},
   "outputs": [],
   "source": [
    "predictions=dtc.predict(X_test)"
   ]
  },
  {
   "cell_type": "code",
   "execution_count": null,
   "metadata": {},
   "outputs": [],
   "source": []
  },
  {
   "cell_type": "code",
   "execution_count": 14,
   "metadata": {},
   "outputs": [],
   "source": [
    "from sklearn.metrics import confusion_matrix,classification_report\n"
   ]
  },
  {
   "cell_type": "code",
   "execution_count": 15,
   "metadata": {},
   "outputs": [
    {
     "data": {
      "text/plain": [
       "array([[1075371,     109],\n",
       "       [    178,    5684]], dtype=int64)"
      ]
     },
     "execution_count": 15,
     "metadata": {},
     "output_type": "execute_result"
    }
   ],
   "source": [
    "confusion_matrix(y_test,predictions)\n"
   ]
  },
  {
   "cell_type": "code",
   "execution_count": 16,
   "metadata": {},
   "outputs": [
    {
     "name": "stdout",
     "output_type": "stream",
     "text": [
      "              precision    recall  f1-score   support\n",
      "\n",
      "           0       1.00      1.00      1.00   1075480\n",
      "           1       0.98      0.97      0.98      5862\n",
      "\n",
      "   micro avg       1.00      1.00      1.00   1081342\n",
      "   macro avg       0.99      0.98      0.99   1081342\n",
      "weighted avg       1.00      1.00      1.00   1081342\n",
      "\n"
     ]
    }
   ],
   "source": [
    "print (classification_report(y_test,predictions))"
   ]
  },
  {
   "cell_type": "code",
   "execution_count": 17,
   "metadata": {},
   "outputs": [
    {
     "data": {
      "text/plain": [
       "0.9997345890569311"
      ]
     },
     "execution_count": 17,
     "metadata": {},
     "output_type": "execute_result"
    }
   ],
   "source": [
    "accuracy_score(y_test,predictions)"
   ]
  },
  {
   "cell_type": "code",
   "execution_count": 26,
   "metadata": {},
   "outputs": [
    {
     "data": {
      "text/plain": [
       "3604471"
      ]
     },
     "execution_count": 26,
     "metadata": {},
     "output_type": "execute_result"
    }
   ],
   "source": [
    "3585184+19287"
   ]
  },
  {
   "cell_type": "code",
   "execution_count": null,
   "metadata": {},
   "outputs": [],
   "source": []
  }
 ],
 "metadata": {
  "kernelspec": {
   "display_name": "Python 3",
   "language": "python",
   "name": "python3"
  },
  "language_info": {
   "codemirror_mode": {
    "name": "ipython",
    "version": 3
   },
   "file_extension": ".py",
   "mimetype": "text/x-python",
   "name": "python",
   "nbconvert_exporter": "python",
   "pygments_lexer": "ipython3",
   "version": "3.6.7"
  }
 },
 "nbformat": 4,
 "nbformat_minor": 2
}
