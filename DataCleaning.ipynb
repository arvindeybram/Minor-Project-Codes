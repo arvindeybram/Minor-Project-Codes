{
 "cells": [
  {
   "cell_type": "code",
   "execution_count": 1,
   "metadata": {},
   "outputs": [],
   "source": [
    "from tld import get_tld\n",
    "import pandas as pd"
   ]
  },
  {
   "cell_type": "code",
   "execution_count": 93,
   "metadata": {},
   "outputs": [
    {
     "name": "stderr",
     "output_type": "stream",
     "text": [
      "C:\\Users\\arabraha\\AppData\\Local\\Continuum\\anaconda3\\lib\\site-packages\\ipykernel_launcher.py:1: ParserWarning: Falling back to the 'python' engine because the 'c' engine does not support regex separators (separators > 1 char and different from '\\s+' are interpreted as regex); you can avoid this warning by specifying engine='python'.\n",
      "  \"\"\"Entry point for launching an IPython kernel.\n"
     ]
    }
   ],
   "source": [
    "file = pd.read_csv('final.txt',encoding=\"iso-8859-1\",sep='delimiter',header=None,names=['URL'])"
   ]
  },
  {
   "cell_type": "code",
   "execution_count": 20,
   "metadata": {},
   "outputs": [
    {
     "data": {
      "text/html": [
       "<div>\n",
       "<style scoped>\n",
       "    .dataframe tbody tr th:only-of-type {\n",
       "        vertical-align: middle;\n",
       "    }\n",
       "\n",
       "    .dataframe tbody tr th {\n",
       "        vertical-align: top;\n",
       "    }\n",
       "\n",
       "    .dataframe thead th {\n",
       "        text-align: right;\n",
       "    }\n",
       "</style>\n",
       "<table border=\"1\" class=\"dataframe\">\n",
       "  <thead>\n",
       "    <tr style=\"text-align: right;\">\n",
       "      <th></th>\n",
       "      <th>URL</th>\n",
       "    </tr>\n",
       "  </thead>\n",
       "  <tbody>\n",
       "    <tr>\n",
       "      <th>3</th>\n",
       "      <td>/account/general?FORM=SEFD&amp;ru=http%3a%2f%2fwww...</td>\n",
       "    </tr>\n",
       "    <tr>\n",
       "      <th>4</th>\n",
       "      <td>/account/general?FORM=SEFD&amp;ru=http%3a%2f%2fwww...</td>\n",
       "    </tr>\n",
       "    <tr>\n",
       "      <th>5</th>\n",
       "      <td>/account/general?FORM=SEFD&amp;ru=http%3a%2f%2fwww...</td>\n",
       "    </tr>\n",
       "    <tr>\n",
       "      <th>6</th>\n",
       "      <td>/account/general?FORM=SEFD&amp;ru=http%3a%2f%2fwww...</td>\n",
       "    </tr>\n",
       "    <tr>\n",
       "      <th>7</th>\n",
       "      <td>/account/general?FORM=SEFD&amp;ru=http%3a%2f%2fwww...</td>\n",
       "    </tr>\n",
       "  </tbody>\n",
       "</table>\n",
       "</div>"
      ],
      "text/plain": [
       "                                                 URL\n",
       "3  /account/general?FORM=SEFD&ru=http%3a%2f%2fwww...\n",
       "4  /account/general?FORM=SEFD&ru=http%3a%2f%2fwww...\n",
       "5  /account/general?FORM=SEFD&ru=http%3a%2f%2fwww...\n",
       "6  /account/general?FORM=SEFD&ru=http%3a%2f%2fwww...\n",
       "7  /account/general?FORM=SEFD&ru=http%3a%2f%2fwww..."
      ]
     },
     "execution_count": 20,
     "metadata": {},
     "output_type": "execute_result"
    }
   ],
   "source": [
    "file.head()"
   ]
  },
  {
   "cell_type": "code",
   "execution_count": 94,
   "metadata": {},
   "outputs": [],
   "source": [
    "file=file.drop([0,1,2],axis=0)"
   ]
  },
  {
   "cell_type": "code",
   "execution_count": 95,
   "metadata": {},
   "outputs": [],
   "source": [
    "file['Labels']=0"
   ]
  },
  {
   "cell_type": "code",
   "execution_count": 96,
   "metadata": {},
   "outputs": [
    {
     "data": {
      "text/plain": [
       "0    3585184\n",
       "Name: Labels, dtype: int64"
      ]
     },
     "execution_count": 96,
     "metadata": {},
     "output_type": "execute_result"
    }
   ],
   "source": [
    "file['Labels'].value_counts()"
   ]
  },
  {
   "cell_type": "code",
   "execution_count": 6,
   "metadata": {},
   "outputs": [],
   "source": [
    "#input_file = pd.read_csv(\"final_bad.csv\")"
   ]
  },
  {
   "cell_type": "code",
   "execution_count": 97,
   "metadata": {},
   "outputs": [
    {
     "data": {
      "text/html": [
       "<div>\n",
       "<style scoped>\n",
       "    .dataframe tbody tr th:only-of-type {\n",
       "        vertical-align: middle;\n",
       "    }\n",
       "\n",
       "    .dataframe tbody tr th {\n",
       "        vertical-align: top;\n",
       "    }\n",
       "\n",
       "    .dataframe thead th {\n",
       "        text-align: right;\n",
       "    }\n",
       "</style>\n",
       "<table border=\"1\" class=\"dataframe\">\n",
       "  <thead>\n",
       "    <tr style=\"text-align: right;\">\n",
       "      <th></th>\n",
       "      <th>URL</th>\n",
       "      <th>Labels</th>\n",
       "    </tr>\n",
       "  </thead>\n",
       "  <tbody>\n",
       "    <tr>\n",
       "      <th>3</th>\n",
       "      <td>/account/general?FORM=SEFD&amp;ru=http%3a%2f%2fwww...</td>\n",
       "      <td>0</td>\n",
       "    </tr>\n",
       "    <tr>\n",
       "      <th>4</th>\n",
       "      <td>/account/general?FORM=SEFD&amp;ru=http%3a%2f%2fwww...</td>\n",
       "      <td>0</td>\n",
       "    </tr>\n",
       "    <tr>\n",
       "      <th>5</th>\n",
       "      <td>/account/general?FORM=SEFD&amp;ru=http%3a%2f%2fwww...</td>\n",
       "      <td>0</td>\n",
       "    </tr>\n",
       "    <tr>\n",
       "      <th>6</th>\n",
       "      <td>/account/general?FORM=SEFD&amp;ru=http%3a%2f%2fwww...</td>\n",
       "      <td>0</td>\n",
       "    </tr>\n",
       "    <tr>\n",
       "      <th>7</th>\n",
       "      <td>/account/general?FORM=SEFD&amp;ru=http%3a%2f%2fwww...</td>\n",
       "      <td>0</td>\n",
       "    </tr>\n",
       "  </tbody>\n",
       "</table>\n",
       "</div>"
      ],
      "text/plain": [
       "                                                 URL  Labels\n",
       "3  /account/general?FORM=SEFD&ru=http%3a%2f%2fwww...       0\n",
       "4  /account/general?FORM=SEFD&ru=http%3a%2f%2fwww...       0\n",
       "5  /account/general?FORM=SEFD&ru=http%3a%2f%2fwww...       0\n",
       "6  /account/general?FORM=SEFD&ru=http%3a%2f%2fwww...       0\n",
       "7  /account/general?FORM=SEFD&ru=http%3a%2f%2fwww...       0"
      ]
     },
     "execution_count": 97,
     "metadata": {},
     "output_type": "execute_result"
    }
   ],
   "source": [
    "file.head()"
   ]
  },
  {
   "cell_type": "code",
   "execution_count": 98,
   "metadata": {},
   "outputs": [
    {
     "data": {
      "text/html": [
       "<div>\n",
       "<style scoped>\n",
       "    .dataframe tbody tr th:only-of-type {\n",
       "        vertical-align: middle;\n",
       "    }\n",
       "\n",
       "    .dataframe tbody tr th {\n",
       "        vertical-align: top;\n",
       "    }\n",
       "\n",
       "    .dataframe thead th {\n",
       "        text-align: right;\n",
       "    }\n",
       "</style>\n",
       "<table border=\"1\" class=\"dataframe\">\n",
       "  <thead>\n",
       "    <tr style=\"text-align: right;\">\n",
       "      <th></th>\n",
       "      <th>URL</th>\n",
       "      <th>Labels</th>\n",
       "    </tr>\n",
       "  </thead>\n",
       "  <tbody>\n",
       "    <tr>\n",
       "      <th>3585182</th>\n",
       "      <td>//www.webmd.com/click?url=https://accreditnet2...</td>\n",
       "      <td>0</td>\n",
       "    </tr>\n",
       "    <tr>\n",
       "      <th>3585183</th>\n",
       "      <td>//www.webmd.com/click?url=https://privacy.trus...</td>\n",
       "      <td>0</td>\n",
       "    </tr>\n",
       "    <tr>\n",
       "      <th>3585184</th>\n",
       "      <td>//www.webmd.com/click?url=https://www.hon.ch/H...</td>\n",
       "      <td>0</td>\n",
       "    </tr>\n",
       "    <tr>\n",
       "      <th>3585185</th>\n",
       "      <td>//www.wikispaces.com/site/help?url=http%3A%2F%...</td>\n",
       "      <td>0</td>\n",
       "    </tr>\n",
       "    <tr>\n",
       "      <th>3585186</th>\n",
       "      <td>/xml/dom_http.asp</td>\n",
       "      <td>0</td>\n",
       "    </tr>\n",
       "  </tbody>\n",
       "</table>\n",
       "</div>"
      ],
      "text/plain": [
       "                                                       URL  Labels\n",
       "3585182  //www.webmd.com/click?url=https://accreditnet2...       0\n",
       "3585183  //www.webmd.com/click?url=https://privacy.trus...       0\n",
       "3585184  //www.webmd.com/click?url=https://www.hon.ch/H...       0\n",
       "3585185  //www.wikispaces.com/site/help?url=http%3A%2F%...       0\n",
       "3585186                                  /xml/dom_http.asp       0"
      ]
     },
     "execution_count": 98,
     "metadata": {},
     "output_type": "execute_result"
    }
   ],
   "source": [
    "file.tail()"
   ]
  },
  {
   "cell_type": "code",
   "execution_count": 99,
   "metadata": {},
   "outputs": [],
   "source": [
    "from urllib.parse import urlparse"
   ]
  },
  {
   "cell_type": "code",
   "execution_count": 100,
   "metadata": {},
   "outputs": [],
   "source": [
    "import re"
   ]
  },
  {
   "cell_type": "code",
   "execution_count": 101,
   "metadata": {},
   "outputs": [],
   "source": [
    "length=[]\n",
    "vocoratio = []\n",
    "digits=[]\n",
    "specialsym=[]\n",
    "dots=[]\n",
    "https = []\n",
    "alphabets=[]\n",
    "subdomains=[]\n",
    "redirection=[]\n",
    "domainlen=[]\n",
    "dash = []\n",
    "digletratio = []\n",
    "dig = 0\n",
    "subdom = 0\n",
    "special_symbol = 0\n",
    "dot = 0\n",
    "letters = 0\n",
    "vowels = 'aeiou'\n",
    "consonants = 'bcdfghjklmnpqrstvwxyz'\n",
    "nonalpha=[]"
   ]
  },
  {
   "cell_type": "code",
   "execution_count": 102,
   "metadata": {},
   "outputs": [
    {
     "data": {
      "text/plain": [
       "0"
      ]
     },
     "execution_count": 102,
     "metadata": {},
     "output_type": "execute_result"
    }
   ],
   "source": [
    "len(length)"
   ]
  },
  {
   "cell_type": "code",
   "execution_count": 103,
   "metadata": {},
   "outputs": [],
   "source": [
    "import urllib.parse as urlparse"
   ]
  },
  {
   "cell_type": "code",
   "execution_count": 104,
   "metadata": {},
   "outputs": [],
   "source": [
    "from urllib.parse import urlparse\n",
    "from tld import get_tld\n",
    "for i in file.URL:\n",
    "    vowelCount = len(re.findall('[%s]' % vowels, i))\n",
    "    consonatCount = len(re.findall('[%s]' % consonants, i))\n",
    "    letters = len(re.findall(\"[a-z,A-Z]\",i))\n",
    "    dig = len(re.findall('\\d',i))\n",
    "    dot = len(re.findall('\\.',i))\n",
    "    special_symbol =len(re.findall(r\"[~\\!@#\\$%\\^&\\*\\(\\)_\\+{}\\\":;'\\[\\]]\", i))\n",
    "    length.append(len(i))\n",
    "    alphabets.append(letters)\n",
    "    specialsym.append(special_symbol)\n",
    "    digits.append(dig)\n",
    "    dots.append(dot)\n",
    "    dash.append(len(re.findall('\\-',i)))\n",
    "    digletratio.append(dig/letters)\n",
    "    vocoratio.append(vowelCount/consonatCount)\n",
    "    parsed_uri = urlparse(i)\n",
    "    result = '{uri.scheme}://{uri.netloc}/'.format(uri=parsed_uri)\n",
    "    if 'https' in result:\n",
    "        https.append(1)\n",
    "        domainlen.append(abs(len(result)-8))\n",
    "    else:\n",
    "        https.append(0)\n",
    "        domainlen.append(abs(len(result)-7))\n",
    "    nonalpha.append(len(i)-len(re.sub(r'[^a-zA-Z]', \"\", i)))\n"
   ]
  },
  {
   "cell_type": "code",
   "execution_count": 105,
   "metadata": {},
   "outputs": [
    {
     "name": "stdout",
     "output_type": "stream",
     "text": [
      "3585184 3585184 3585184\n"
     ]
    }
   ],
   "source": [
    "print(len(digits),len(length),len(file.URL))"
   ]
  },
  {
   "cell_type": "code",
   "execution_count": null,
   "metadata": {},
   "outputs": [],
   "source": []
  },
  {
   "cell_type": "code",
   "execution_count": 106,
   "metadata": {
    "scrolled": true
   },
   "outputs": [],
   "source": [
    "import urllib.parse as urlparse\n",
    "import tldextract\n",
    "for i in file.URL:\n",
    "    ext = tldextract.extract(i)\n",
    "    subdomains.append(len(ext.subdomain))"
   ]
  },
  {
   "cell_type": "code",
   "execution_count": 107,
   "metadata": {},
   "outputs": [],
   "source": [
    "file['Subdomains']=subdomains"
   ]
  },
  {
   "cell_type": "code",
   "execution_count": 108,
   "metadata": {},
   "outputs": [],
   "source": [
    "file['Digits']=digits\n",
    "file['Len_of_URL']=length\n",
    "file['Special_sym']=specialsym\n",
    "file['Dots']=dots\n",
    "file['Alphabets']=alphabets\n",
    "file['DigLetRatio']=digletratio\n",
    "file['Dash']=dash\n",
    "file['Vow-Cons-Ratio']=vocoratio\n",
    "file['https']=https\n",
    "file['DomainLength']=domainlen\n",
    "file['NonAlpha']=nonalpha"
   ]
  },
  {
   "cell_type": "code",
   "execution_count": 111,
   "metadata": {},
   "outputs": [],
   "source": [
    "equal = []\n",
    "dollar = []\n",
    "question_mark = []\n",
    "for i in file.URL:\n",
    "    question_mark.append(len(re.findall('\\?',i)))\n",
    "    equal.append(len(re.findall('\\=',i)))\n",
    "    dollar.append(len(re.findall('\\$',i)))\n",
    "file['Q_mark']=question_mark\n",
    "file['Dollar']=dollar\n",
    "file['Eq_sym']=equal"
   ]
  },
  {
   "cell_type": "code",
   "execution_count": 113,
   "metadata": {},
   "outputs": [
    {
     "data": {
      "text/html": [
       "<div>\n",
       "<style scoped>\n",
       "    .dataframe tbody tr th:only-of-type {\n",
       "        vertical-align: middle;\n",
       "    }\n",
       "\n",
       "    .dataframe tbody tr th {\n",
       "        vertical-align: top;\n",
       "    }\n",
       "\n",
       "    .dataframe thead th {\n",
       "        text-align: right;\n",
       "    }\n",
       "</style>\n",
       "<table border=\"1\" class=\"dataframe\">\n",
       "  <thead>\n",
       "    <tr style=\"text-align: right;\">\n",
       "      <th></th>\n",
       "      <th>URL</th>\n",
       "      <th>Labels</th>\n",
       "      <th>Subdomains</th>\n",
       "      <th>Digits</th>\n",
       "      <th>Len_of_URL</th>\n",
       "      <th>Special_sym</th>\n",
       "      <th>Dots</th>\n",
       "      <th>Alphabets</th>\n",
       "      <th>DigLetRatio</th>\n",
       "      <th>Dash</th>\n",
       "      <th>Vow-Cons-Ratio</th>\n",
       "      <th>https</th>\n",
       "      <th>DomainLength</th>\n",
       "      <th>NonAlpha</th>\n",
       "      <th>Q_mark</th>\n",
       "      <th>Dollar</th>\n",
       "      <th>Eq_sym</th>\n",
       "    </tr>\n",
       "  </thead>\n",
       "  <tbody>\n",
       "    <tr>\n",
       "      <th>3</th>\n",
       "      <td>/account/general?FORM=SEFD&amp;ru=http%3a%2f%2fwww...</td>\n",
       "      <td>0</td>\n",
       "      <td>0</td>\n",
       "      <td>25</td>\n",
       "      <td>122</td>\n",
       "      <td>8</td>\n",
       "      <td>2</td>\n",
       "      <td>77</td>\n",
       "      <td>0.324675</td>\n",
       "      <td>2</td>\n",
       "      <td>0.414634</td>\n",
       "      <td>0</td>\n",
       "      <td>3</td>\n",
       "      <td>45</td>\n",
       "      <td>1</td>\n",
       "      <td>0</td>\n",
       "      <td>5</td>\n",
       "    </tr>\n",
       "    <tr>\n",
       "      <th>4</th>\n",
       "      <td>/account/general?FORM=SEFD&amp;ru=http%3a%2f%2fwww...</td>\n",
       "      <td>0</td>\n",
       "      <td>0</td>\n",
       "      <td>25</td>\n",
       "      <td>122</td>\n",
       "      <td>8</td>\n",
       "      <td>2</td>\n",
       "      <td>77</td>\n",
       "      <td>0.324675</td>\n",
       "      <td>2</td>\n",
       "      <td>0.450000</td>\n",
       "      <td>0</td>\n",
       "      <td>3</td>\n",
       "      <td>45</td>\n",
       "      <td>1</td>\n",
       "      <td>0</td>\n",
       "      <td>5</td>\n",
       "    </tr>\n",
       "    <tr>\n",
       "      <th>5</th>\n",
       "      <td>/account/general?FORM=SEFD&amp;ru=http%3a%2f%2fwww...</td>\n",
       "      <td>0</td>\n",
       "      <td>0</td>\n",
       "      <td>25</td>\n",
       "      <td>122</td>\n",
       "      <td>8</td>\n",
       "      <td>2</td>\n",
       "      <td>77</td>\n",
       "      <td>0.324675</td>\n",
       "      <td>2</td>\n",
       "      <td>0.450000</td>\n",
       "      <td>0</td>\n",
       "      <td>3</td>\n",
       "      <td>45</td>\n",
       "      <td>1</td>\n",
       "      <td>0</td>\n",
       "      <td>5</td>\n",
       "    </tr>\n",
       "    <tr>\n",
       "      <th>6</th>\n",
       "      <td>/account/general?FORM=SEFD&amp;ru=http%3a%2f%2fwww...</td>\n",
       "      <td>0</td>\n",
       "      <td>0</td>\n",
       "      <td>25</td>\n",
       "      <td>122</td>\n",
       "      <td>8</td>\n",
       "      <td>2</td>\n",
       "      <td>77</td>\n",
       "      <td>0.324675</td>\n",
       "      <td>2</td>\n",
       "      <td>0.414634</td>\n",
       "      <td>0</td>\n",
       "      <td>3</td>\n",
       "      <td>45</td>\n",
       "      <td>1</td>\n",
       "      <td>0</td>\n",
       "      <td>5</td>\n",
       "    </tr>\n",
       "    <tr>\n",
       "      <th>7</th>\n",
       "      <td>/account/general?FORM=SEFD&amp;ru=http%3a%2f%2fwww...</td>\n",
       "      <td>0</td>\n",
       "      <td>0</td>\n",
       "      <td>25</td>\n",
       "      <td>122</td>\n",
       "      <td>8</td>\n",
       "      <td>2</td>\n",
       "      <td>77</td>\n",
       "      <td>0.324675</td>\n",
       "      <td>2</td>\n",
       "      <td>0.414634</td>\n",
       "      <td>0</td>\n",
       "      <td>3</td>\n",
       "      <td>45</td>\n",
       "      <td>1</td>\n",
       "      <td>0</td>\n",
       "      <td>5</td>\n",
       "    </tr>\n",
       "  </tbody>\n",
       "</table>\n",
       "</div>"
      ],
      "text/plain": [
       "                                                 URL  Labels  Subdomains  \\\n",
       "3  /account/general?FORM=SEFD&ru=http%3a%2f%2fwww...       0           0   \n",
       "4  /account/general?FORM=SEFD&ru=http%3a%2f%2fwww...       0           0   \n",
       "5  /account/general?FORM=SEFD&ru=http%3a%2f%2fwww...       0           0   \n",
       "6  /account/general?FORM=SEFD&ru=http%3a%2f%2fwww...       0           0   \n",
       "7  /account/general?FORM=SEFD&ru=http%3a%2f%2fwww...       0           0   \n",
       "\n",
       "   Digits  Len_of_URL  Special_sym  Dots  Alphabets  DigLetRatio  Dash  \\\n",
       "3      25         122            8     2         77     0.324675     2   \n",
       "4      25         122            8     2         77     0.324675     2   \n",
       "5      25         122            8     2         77     0.324675     2   \n",
       "6      25         122            8     2         77     0.324675     2   \n",
       "7      25         122            8     2         77     0.324675     2   \n",
       "\n",
       "   Vow-Cons-Ratio  https  DomainLength  NonAlpha  Q_mark  Dollar  Eq_sym  \n",
       "3        0.414634      0             3        45       1       0       5  \n",
       "4        0.450000      0             3        45       1       0       5  \n",
       "5        0.450000      0             3        45       1       0       5  \n",
       "6        0.414634      0             3        45       1       0       5  \n",
       "7        0.414634      0             3        45       1       0       5  "
      ]
     },
     "execution_count": 113,
     "metadata": {},
     "output_type": "execute_result"
    }
   ],
   "source": [
    "file.head()"
   ]
  },
  {
   "cell_type": "code",
   "execution_count": 77,
   "metadata": {},
   "outputs": [
    {
     "data": {
      "text/plain": [
       "17"
      ]
     },
     "execution_count": 77,
     "metadata": {},
     "output_type": "execute_result"
    }
   ],
   "source": [
    "len(file.columns)"
   ]
  },
  {
   "cell_type": "code",
   "execution_count": 78,
   "metadata": {},
   "outputs": [],
   "source": [
    "file2=pd.read_csv('thebadone.csv')"
   ]
  },
  {
   "cell_type": "code",
   "execution_count": 81,
   "metadata": {},
   "outputs": [
    {
     "data": {
      "text/plain": [
       "1    19287\n",
       "Name: Labels, dtype: int64"
      ]
     },
     "execution_count": 81,
     "metadata": {},
     "output_type": "execute_result"
    }
   ],
   "source": [
    "file2.Labels.value_counts()"
   ]
  },
  {
   "cell_type": "code",
   "execution_count": null,
   "metadata": {},
   "outputs": [],
   "source": [
    "df.to_csv('final_good.csv',index=None)"
   ]
  },
  {
   "cell_type": "code",
   "execution_count": null,
   "metadata": {},
   "outputs": [],
   "source": [
    "len(digits)"
   ]
  },
  {
   "cell_type": "code",
   "execution_count": 293,
   "metadata": {},
   "outputs": [],
   "source": [
    "file1=pd.read_csv(\"dmoz_domain_category.csv\",nrows=200000)"
   ]
  },
  {
   "cell_type": "code",
   "execution_count": 115,
   "metadata": {},
   "outputs": [
    {
     "data": {
      "text/plain": [
       "1    19287\n",
       "Name: Subdomains, dtype: int64"
      ]
     },
     "execution_count": 115,
     "metadata": {},
     "output_type": "execute_result"
    }
   ],
   "source": [
    "file2.Subdomains.value_counts()"
   ]
  },
  {
   "cell_type": "code",
   "execution_count": 302,
   "metadata": {},
   "outputs": [],
   "source": [
    "file1['Labels']=0"
   ]
  },
  {
   "cell_type": "code",
   "execution_count": 117,
   "metadata": {},
   "outputs": [
    {
     "data": {
      "text/plain": [
       "17"
      ]
     },
     "execution_count": 117,
     "metadata": {},
     "output_type": "execute_result"
    }
   ],
   "source": [
    "len(file2.columns)"
   ]
  },
  {
   "cell_type": "code",
   "execution_count": 308,
   "metadata": {},
   "outputs": [
    {
     "data": {
      "text/plain": [
       "1    19287\n",
       "Name: Labels, dtype: int64"
      ]
     },
     "execution_count": 308,
     "metadata": {},
     "output_type": "execute_result"
    }
   ],
   "source": [
    "input_file.Labels.value_counts()"
   ]
  },
  {
   "cell_type": "code",
   "execution_count": null,
   "metadata": {},
   "outputs": [],
   "source": []
  },
  {
   "cell_type": "code",
   "execution_count": 225,
   "metadata": {},
   "outputs": [],
   "source": [
    "file1 = pd.read_csv(\"thegoodone.csv\")\n",
    "file2=pd.read_csv(\"thebadone.csv\")"
   ]
  },
  {
   "cell_type": "code",
   "execution_count": 118,
   "metadata": {},
   "outputs": [
    {
     "name": "stderr",
     "output_type": "stream",
     "text": [
      "C:\\Users\\arabraha\\AppData\\Local\\Continuum\\anaconda3\\lib\\site-packages\\ipykernel_launcher.py:1: FutureWarning: Sorting because non-concatenation axis is not aligned. A future version\n",
      "of pandas will change to not sort by default.\n",
      "\n",
      "To accept the future behavior, pass 'sort=False'.\n",
      "\n",
      "To retain the current behavior and silence the warning, pass 'sort=True'.\n",
      "\n",
      "  \"\"\"Entry point for launching an IPython kernel.\n"
     ]
    }
   ],
   "source": [
    "file3=pd.concat([file,file2])"
   ]
  },
  {
   "cell_type": "code",
   "execution_count": 90,
   "metadata": {},
   "outputs": [
    {
     "data": {
      "text/plain": [
       "0    3585184\n",
       "1      38574\n",
       "Name: Labels, dtype: int64"
      ]
     },
     "execution_count": 90,
     "metadata": {},
     "output_type": "execute_result"
    }
   ],
   "source": [
    "file.Labels.value_counts()"
   ]
  },
  {
   "cell_type": "code",
   "execution_count": 121,
   "metadata": {},
   "outputs": [
    {
     "data": {
      "text/html": [
       "<div>\n",
       "<style scoped>\n",
       "    .dataframe tbody tr th:only-of-type {\n",
       "        vertical-align: middle;\n",
       "    }\n",
       "\n",
       "    .dataframe tbody tr th {\n",
       "        vertical-align: top;\n",
       "    }\n",
       "\n",
       "    .dataframe thead th {\n",
       "        text-align: right;\n",
       "    }\n",
       "</style>\n",
       "<table border=\"1\" class=\"dataframe\">\n",
       "  <thead>\n",
       "    <tr style=\"text-align: right;\">\n",
       "      <th></th>\n",
       "      <th>Alphabets</th>\n",
       "      <th>Dash</th>\n",
       "      <th>DigLetRatio</th>\n",
       "      <th>Digits</th>\n",
       "      <th>Dollar</th>\n",
       "      <th>DomainLength</th>\n",
       "      <th>Dots</th>\n",
       "      <th>Eq_sym</th>\n",
       "      <th>Labels</th>\n",
       "      <th>Len_of_URL</th>\n",
       "      <th>NonAlpha</th>\n",
       "      <th>Q_mark</th>\n",
       "      <th>Special_sym</th>\n",
       "      <th>Subdomains</th>\n",
       "      <th>URL</th>\n",
       "      <th>Vow-Cons-Ratio</th>\n",
       "      <th>https</th>\n",
       "    </tr>\n",
       "  </thead>\n",
       "  <tbody>\n",
       "    <tr>\n",
       "      <th>19282</th>\n",
       "      <td>43</td>\n",
       "      <td>0</td>\n",
       "      <td>0.186047</td>\n",
       "      <td>8</td>\n",
       "      <td>0</td>\n",
       "      <td>31</td>\n",
       "      <td>3</td>\n",
       "      <td>0</td>\n",
       "      <td>1</td>\n",
       "      <td>61</td>\n",
       "      <td>18</td>\n",
       "      <td>0</td>\n",
       "      <td>4</td>\n",
       "      <td>1</td>\n",
       "      <td>http://mundovirtualhabbo.blogspot.com/2009_01_...</td>\n",
       "      <td>0.433333</td>\n",
       "      <td>0</td>\n",
       "    </tr>\n",
       "    <tr>\n",
       "      <th>19283</th>\n",
       "      <td>43</td>\n",
       "      <td>0</td>\n",
       "      <td>0.186047</td>\n",
       "      <td>8</td>\n",
       "      <td>0</td>\n",
       "      <td>28</td>\n",
       "      <td>3</td>\n",
       "      <td>0</td>\n",
       "      <td>1</td>\n",
       "      <td>61</td>\n",
       "      <td>18</td>\n",
       "      <td>0</td>\n",
       "      <td>2</td>\n",
       "      <td>1</td>\n",
       "      <td>http://creditgratosse.blogspot.com/2008/01/con...</td>\n",
       "      <td>0.387097</td>\n",
       "      <td>0</td>\n",
       "    </tr>\n",
       "    <tr>\n",
       "      <th>19284</th>\n",
       "      <td>42</td>\n",
       "      <td>3</td>\n",
       "      <td>0.142857</td>\n",
       "      <td>6</td>\n",
       "      <td>0</td>\n",
       "      <td>19</td>\n",
       "      <td>3</td>\n",
       "      <td>0</td>\n",
       "      <td>1</td>\n",
       "      <td>60</td>\n",
       "      <td>18</td>\n",
       "      <td>0</td>\n",
       "      <td>1</td>\n",
       "      <td>1</td>\n",
       "      <td>http://aijcs.blogspot.com/2005/03/colourful-li...</td>\n",
       "      <td>0.500000</td>\n",
       "      <td>0</td>\n",
       "    </tr>\n",
       "    <tr>\n",
       "      <th>19285</th>\n",
       "      <td>17</td>\n",
       "      <td>1</td>\n",
       "      <td>0.176471</td>\n",
       "      <td>3</td>\n",
       "      <td>0</td>\n",
       "      <td>11</td>\n",
       "      <td>2</td>\n",
       "      <td>0</td>\n",
       "      <td>1</td>\n",
       "      <td>28</td>\n",
       "      <td>11</td>\n",
       "      <td>0</td>\n",
       "      <td>1</td>\n",
       "      <td>1</td>\n",
       "      <td>http://tnet.at.ua/index/0-13</td>\n",
       "      <td>0.545455</td>\n",
       "      <td>0</td>\n",
       "    </tr>\n",
       "    <tr>\n",
       "      <th>19286</th>\n",
       "      <td>57</td>\n",
       "      <td>4</td>\n",
       "      <td>0.122807</td>\n",
       "      <td>7</td>\n",
       "      <td>0</td>\n",
       "      <td>23</td>\n",
       "      <td>3</td>\n",
       "      <td>0</td>\n",
       "      <td>1</td>\n",
       "      <td>78</td>\n",
       "      <td>21</td>\n",
       "      <td>0</td>\n",
       "      <td>2</td>\n",
       "      <td>1</td>\n",
       "      <td>http://tudu-free.blogspot.com/2008/02/jogos-ja...</td>\n",
       "      <td>0.540541</td>\n",
       "      <td>0</td>\n",
       "    </tr>\n",
       "  </tbody>\n",
       "</table>\n",
       "</div>"
      ],
      "text/plain": [
       "       Alphabets  Dash  DigLetRatio  Digits  Dollar  DomainLength  Dots  \\\n",
       "19282         43     0     0.186047       8       0            31     3   \n",
       "19283         43     0     0.186047       8       0            28     3   \n",
       "19284         42     3     0.142857       6       0            19     3   \n",
       "19285         17     1     0.176471       3       0            11     2   \n",
       "19286         57     4     0.122807       7       0            23     3   \n",
       "\n",
       "       Eq_sym  Labels  Len_of_URL  NonAlpha  Q_mark  Special_sym  Subdomains  \\\n",
       "19282       0       1          61        18       0            4           1   \n",
       "19283       0       1          61        18       0            2           1   \n",
       "19284       0       1          60        18       0            1           1   \n",
       "19285       0       1          28        11       0            1           1   \n",
       "19286       0       1          78        21       0            2           1   \n",
       "\n",
       "                                                     URL  Vow-Cons-Ratio  \\\n",
       "19282  http://mundovirtualhabbo.blogspot.com/2009_01_...        0.433333   \n",
       "19283  http://creditgratosse.blogspot.com/2008/01/con...        0.387097   \n",
       "19284  http://aijcs.blogspot.com/2005/03/colourful-li...        0.500000   \n",
       "19285                       http://tnet.at.ua/index/0-13        0.545455   \n",
       "19286  http://tudu-free.blogspot.com/2008/02/jogos-ja...        0.540541   \n",
       "\n",
       "       https  \n",
       "19282      0  \n",
       "19283      0  \n",
       "19284      0  \n",
       "19285      0  \n",
       "19286      0  "
      ]
     },
     "execution_count": 121,
     "metadata": {},
     "output_type": "execute_result"
    }
   ],
   "source": [
    "file3.tail()"
   ]
  },
  {
   "cell_type": "code",
   "execution_count": 313,
   "metadata": {},
   "outputs": [],
   "source": []
  },
  {
   "cell_type": "code",
   "execution_count": 314,
   "metadata": {},
   "outputs": [],
   "source": []
  },
  {
   "cell_type": "code",
   "execution_count": 120,
   "metadata": {},
   "outputs": [
    {
     "data": {
      "text/plain": [
       "0    3585184\n",
       "1      19287\n",
       "Name: Labels, dtype: int64"
      ]
     },
     "execution_count": 120,
     "metadata": {},
     "output_type": "execute_result"
    }
   ],
   "source": [
    "file3.Labels.value_counts()"
   ]
  },
  {
   "cell_type": "code",
   "execution_count": 122,
   "metadata": {},
   "outputs": [],
   "source": [
    "file3.to_csv('Bigset.csv',index=False)"
   ]
  }
 ],
 "metadata": {
  "kernelspec": {
   "display_name": "Python 3",
   "language": "python",
   "name": "python3"
  },
  "language_info": {
   "codemirror_mode": {
    "name": "ipython",
    "version": 3
   },
   "file_extension": ".py",
   "mimetype": "text/x-python",
   "name": "python",
   "nbconvert_exporter": "python",
   "pygments_lexer": "ipython3",
   "version": "3.6.7"
  }
 },
 "nbformat": 4,
 "nbformat_minor": 2
}
